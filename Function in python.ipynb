{
 "cells": [
  {
   "cell_type": "code",
   "execution_count": 1,
   "id": "52e46bce-30bc-4136-b9d2-9f8cd3d53885",
   "metadata": {},
   "outputs": [],
   "source": [
    "#Function in python"
   ]
  },
  {
   "cell_type": "code",
   "execution_count": 2,
   "id": "173706a3-de5d-4adc-a55e-9d5e8deae9f4",
   "metadata": {},
   "outputs": [
    {
     "name": "stdout",
     "output_type": "stream",
     "text": [
      "Say Hey\n"
     ]
    }
   ],
   "source": [
    "def give_some_name():\n",
    "    print(\"Say Hey\")\n",
    "\n",
    "give_some_name()\n",
    "    "
   ]
  },
  {
   "cell_type": "code",
   "execution_count": 3,
   "id": "2af5b504-ec45-478c-9929-2a1cef97ae50",
   "metadata": {},
   "outputs": [
    {
     "name": "stdout",
     "output_type": "stream",
     "text": [
      "Umer Hey\n",
      "Hilal Hey\n",
      "Bilal Hey\n"
     ]
    }
   ],
   "source": [
    "def my_func(name):\n",
    "    print(name + ' Hey')\n",
    "\n",
    "my_func(\"Umer\")\n",
    "my_func(\"Hilal\")\n",
    "my_func(\"Bilal\")\n"
   ]
  },
  {
   "cell_type": "code",
   "execution_count": 4,
   "id": "f613a1fe-1f30-46d8-9575-4302a7d7dfcd",
   "metadata": {},
   "outputs": [
    {
     "name": "stdout",
     "output_type": "stream",
     "text": [
      "Umer Hello 19 its mean You are 19 years old\n",
      "Bilal Hello 20 its mean You are 20 years old\n",
      "Hilal Hello 21 its mean You are 21 years old\n"
     ]
    }
   ],
   "source": [
    "def my_function(name, age):\n",
    "    print(name + \" Hello\",age , \"its mean You are\", age, \"years old\")\n",
    "\n",
    "my_function(\"Umer\", 19)\n",
    "my_function(\"Bilal\", 20)\n",
    "my_function(\"Hilal\", 21)"
   ]
  },
  {
   "cell_type": "code",
   "execution_count": 9,
   "id": "db634e40-46df-49b7-8384-4cfc9871dabd",
   "metadata": {},
   "outputs": [
    {
     "name": "stdout",
     "output_type": "stream",
     "text": [
      "The clever boy is Umer\n"
     ]
    }
   ],
   "source": [
    "def my_function(*name):\n",
    "    print(\"The clever boy is\",  name[1])\n",
    "\n",
    "my_function(\"Hilal\", \"Umer\", \"Bilal\")"
   ]
  },
  {
   "cell_type": "code",
   "execution_count": 13,
   "id": "872ab0aa-2b7a-43b9-a9d4-17db5dc87130",
   "metadata": {},
   "outputs": [
    {
     "name": "stdout",
     "output_type": "stream",
     "text": [
      "The youngest child is MRr_Umer\n"
     ]
    }
   ],
   "source": [
    "def my_function(child1, child2, child3):\n",
    "    print(\"The youngest child is \" + child2)\n",
    "\n",
    "my_function(child1 = \"Hilal\", child2 = \"MRr_Umer\", child3 = \"Bilal\")"
   ]
  },
  {
   "cell_type": "code",
   "execution_count": 17,
   "id": "5141b9c0-eb37-419e-812a-5c63b8a48c53",
   "metadata": {},
   "outputs": [
    {
     "name": "stdout",
     "output_type": "stream",
     "text": [
      "His last name is Umer\n"
     ]
    }
   ],
   "source": [
    "def my_function(**boy):\n",
    "    print(\"His last name is \" + boy[\"last_name\"])\n",
    "\n",
    "my_function(first_name = \"MRr\", last_name = \"Umer\")"
   ]
  },
  {
   "cell_type": "code",
   "execution_count": 18,
   "id": "1ef55132-ab00-465a-bef0-1a0097bde2d0",
   "metadata": {},
   "outputs": [
    {
     "name": "stdout",
     "output_type": "stream",
     "text": [
      "I am from Africa\n",
      "I am from India\n",
      "I am from Pakistan\n",
      "I am from Afghanistan\n"
     ]
    }
   ],
   "source": [
    "def my_function(contry = \"Pakistan\"):\n",
    "    print(\"I am from \" + contry)\n",
    "\n",
    "my_function(\"Africa\")\n",
    "my_function(\"India\")\n",
    "my_function()\n",
    "my_function(\"Afghanistan\")"
   ]
  },
  {
   "cell_type": "code",
   "execution_count": 20,
   "id": "93c55e18-d0fe-447e-82bf-63dd80020333",
   "metadata": {},
   "outputs": [
    {
     "name": "stdout",
     "output_type": "stream",
     "text": [
      "He is from Afghanistan\n",
      "He is from Pakistan\n",
      "He is from India\n",
      "He is from Iraq\n"
     ]
    }
   ],
   "source": [
    "def m_f(contry = \"Pakistan\"):\n",
    "    print(\"He is from \" + contry)\n",
    "\n",
    "m_f('Afghanistan')\n",
    "m_f()\n",
    "m_f('India')\n",
    "m_f(\"Iraq\")\n",
    "    "
   ]
  },
  {
   "cell_type": "code",
   "execution_count": null,
   "id": "e070b928-17c6-4398-82a7-c3252f64963b",
   "metadata": {},
   "outputs": [],
   "source": []
  }
 ],
 "metadata": {
  "kernelspec": {
   "display_name": "Python 3 (ipykernel)",
   "language": "python",
   "name": "python3"
  },
  "language_info": {
   "codemirror_mode": {
    "name": "ipython",
    "version": 3
   },
   "file_extension": ".py",
   "mimetype": "text/x-python",
   "name": "python",
   "nbconvert_exporter": "python",
   "pygments_lexer": "ipython3",
   "version": "3.12.7"
  }
 },
 "nbformat": 4,
 "nbformat_minor": 5
}
